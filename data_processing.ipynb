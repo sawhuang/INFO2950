{
 "cells": [
  {
   "cell_type": "code",
   "execution_count": 1,
   "metadata": {},
   "outputs": [],
   "source": [
    "import numpy as np\n",
    "import pandas as pd\n",
    "import matplotlib.pyplot as plt\n",
    "import math\n",
    "from scipy.stats import norm"
   ]
  },
  {
   "cell_type": "code",
   "execution_count": 2,
   "metadata": {},
   "outputs": [],
   "source": [
    "critically_endangered = pd.read_csv(\"critically_endangered_filtered.csv\")\n",
    "\n",
    "# drop empty cells and remove duplicates that appeared after writing the data into a csv in data processing\n",
    "critically_endangered = critically_endangered.dropna(axis=\"columns\", how=\"all\")\n",
    "critically_endangered = critically_endangered.dropna(axis=\"rows\", how=\"all\")\n",
    "critically_endangered = critically_endangered.drop_duplicates(subset='speciesName', keep='first')"
   ]
  },
  {
   "cell_type": "markdown",
   "metadata": {},
   "source": [
    "### Parse HTML Tags"
   ]
  },
  {
   "cell_type": "code",
   "execution_count": 3,
   "metadata": {},
   "outputs": [],
   "source": [
    "cols=['Region',\n",
    " 'scientificName',\n",
    " 'kingdomName',\n",
    " 'phylumName',\n",
    " 'orderName',\n",
    " 'className',\n",
    " 'familyName',\n",
    " 'genusName',\n",
    " 'speciesName',\n",
    " 'redlistCriteria',\n",
    " 'rationale',\n",
    " 'habitat',\n",
    " 'threats',\n",
    " 'population',\n",
    " 'populationTrend',\n",
    " 'range',\n",
    " 'useTrade',\n",
    " 'systems',\n",
    " 'conservationActions',\n",
    " 'realm',\n",
    " 'yearLastSeen',\n",
    " 'scopes']\n",
    "\n",
    "for col in cols:\n",
    "    for val in critically_endangered[col]:\n",
    "        if (not (pd.isnull(val))):\n",
    "            orig_val=val\n",
    "            if (val.find(\"<\")>-1):\n",
    "                for i in range(val.count(\"<\")):\n",
    "                    val=val[:val.find(\"<\")]+val[val.find(\">\")+1:]\n",
    "                critically_endangered.at[list(critically_endangered[col]).index(orig_val),col]=val"
   ]
  },
  {
   "cell_type": "markdown",
   "metadata": {},
   "source": [
    "We filtered out all of the HTML tags in every cell in certain columns."
   ]
  },
  {
   "cell_type": "markdown",
   "metadata": {},
   "source": [
    "### Red List Criteria Indicator Variables"
   ]
  },
  {
   "cell_type": "code",
   "execution_count": 4,
   "metadata": {},
   "outputs": [],
   "source": [
    "# define helper function to create indicator variables for Red List criteria\n",
    "# returns a dictionary of criterias as keys and series of indicators as values\n",
    "def redlistcrit_helper():\n",
    "\n",
    "    A = critically_endangered['redlistCriteria'].str.contains(\"A\")\n",
    "    A=A.astype(int)\n",
    "\n",
    "    B = critically_endangered['redlistCriteria'].str.contains(\"B\")\n",
    "    B=B.astype(int)\n",
    "\n",
    "    C = critically_endangered['redlistCriteria'].str.contains(\"C\")\n",
    "    C=C.astype(int)\n",
    "\n",
    "    D = critically_endangered['redlistCriteria'].str.contains(\"D\")\n",
    "    D=D.astype(int)\n",
    "\n",
    "    E = critically_endangered['redlistCriteria'].str.contains(\"E\")\n",
    "    E=E.astype(int)\n",
    "\n",
    "    indicator_redlistCrit = { 'A': A, 'B': B, 'C': C, 'D': D, 'E':E } \n",
    "\n",
    "    return indicator_redlistCrit"
   ]
  },
  {
   "cell_type": "code",
   "execution_count": 5,
   "metadata": {
    "scrolled": false
   },
   "outputs": [
    {
     "data": {
      "text/html": [
       "<div>\n",
       "<style scoped>\n",
       "    .dataframe tbody tr th:only-of-type {\n",
       "        vertical-align: middle;\n",
       "    }\n",
       "\n",
       "    .dataframe tbody tr th {\n",
       "        vertical-align: top;\n",
       "    }\n",
       "\n",
       "    .dataframe thead th {\n",
       "        text-align: right;\n",
       "    }\n",
       "</style>\n",
       "<table border=\"1\" class=\"dataframe\">\n",
       "  <thead>\n",
       "    <tr style=\"text-align: right;\">\n",
       "      <th></th>\n",
       "      <th>A</th>\n",
       "      <th>B</th>\n",
       "      <th>C</th>\n",
       "      <th>D</th>\n",
       "      <th>E</th>\n",
       "    </tr>\n",
       "  </thead>\n",
       "  <tbody>\n",
       "    <tr>\n",
       "      <td>0</td>\n",
       "      <td>0</td>\n",
       "      <td>1</td>\n",
       "      <td>0</td>\n",
       "      <td>0</td>\n",
       "      <td>0</td>\n",
       "    </tr>\n",
       "    <tr>\n",
       "      <td>1</td>\n",
       "      <td>1</td>\n",
       "      <td>0</td>\n",
       "      <td>0</td>\n",
       "      <td>0</td>\n",
       "      <td>0</td>\n",
       "    </tr>\n",
       "    <tr>\n",
       "      <td>2</td>\n",
       "      <td>1</td>\n",
       "      <td>0</td>\n",
       "      <td>0</td>\n",
       "      <td>0</td>\n",
       "      <td>0</td>\n",
       "    </tr>\n",
       "    <tr>\n",
       "      <td>3</td>\n",
       "      <td>1</td>\n",
       "      <td>0</td>\n",
       "      <td>0</td>\n",
       "      <td>0</td>\n",
       "      <td>0</td>\n",
       "    </tr>\n",
       "    <tr>\n",
       "      <td>4</td>\n",
       "      <td>0</td>\n",
       "      <td>1</td>\n",
       "      <td>0</td>\n",
       "      <td>0</td>\n",
       "      <td>0</td>\n",
       "    </tr>\n",
       "  </tbody>\n",
       "</table>\n",
       "</div>"
      ],
      "text/plain": [
       "   A  B  C  D  E\n",
       "0  0  1  0  0  0\n",
       "1  1  0  0  0  0\n",
       "2  1  0  0  0  0\n",
       "3  1  0  0  0  0\n",
       "4  0  1  0  0  0"
      ]
     },
     "execution_count": 5,
     "metadata": {},
     "output_type": "execute_result"
    }
   ],
   "source": [
    "# display indicator variables for criteria\n",
    "redlistCriteria_dummies = pd.DataFrame(redlistcrit_helper()) \n",
    "redlistCriteria_dummies.head()"
   ]
  },
  {
   "cell_type": "code",
   "execution_count": 6,
   "metadata": {},
   "outputs": [],
   "source": [
    "for criteria in ['A','B','C','D','E']:\n",
    "    critically_endangered[criteria] = redlistCriteria_dummies[criteria]"
   ]
  },
  {
   "cell_type": "markdown",
   "metadata": {},
   "source": [
    "We created indicator variables for the Red List criteria categories and a helper function to help us get these indicator variables. There were many different unique values in the criteria column initially because species could have multiple criterias. We assigned a 1 at anytime a species was in a criteria category. We added these columns to the end of our dataframe."
   ]
  },
  {
   "cell_type": "markdown",
   "metadata": {},
   "source": [
    "### Region Indicator Variables"
   ]
  },
  {
   "cell_type": "code",
   "execution_count": 7,
   "metadata": {
    "scrolled": true
   },
   "outputs": [
    {
     "data": {
      "text/html": [
       "<div>\n",
       "<style scoped>\n",
       "    .dataframe tbody tr th:only-of-type {\n",
       "        vertical-align: middle;\n",
       "    }\n",
       "\n",
       "    .dataframe tbody tr th {\n",
       "        vertical-align: top;\n",
       "    }\n",
       "\n",
       "    .dataframe thead th {\n",
       "        text-align: right;\n",
       "    }\n",
       "</style>\n",
       "<table border=\"1\" class=\"dataframe\">\n",
       "  <thead>\n",
       "    <tr style=\"text-align: right;\">\n",
       "      <th></th>\n",
       "      <th>North Africa</th>\n",
       "      <th>North America</th>\n",
       "      <th>North Asia</th>\n",
       "      <th>South America</th>\n",
       "    </tr>\n",
       "  </thead>\n",
       "  <tbody>\n",
       "    <tr>\n",
       "      <td>0</td>\n",
       "      <td>1</td>\n",
       "      <td>0</td>\n",
       "      <td>0</td>\n",
       "      <td>0</td>\n",
       "    </tr>\n",
       "    <tr>\n",
       "      <td>1</td>\n",
       "      <td>1</td>\n",
       "      <td>0</td>\n",
       "      <td>0</td>\n",
       "      <td>0</td>\n",
       "    </tr>\n",
       "    <tr>\n",
       "      <td>2</td>\n",
       "      <td>1</td>\n",
       "      <td>0</td>\n",
       "      <td>0</td>\n",
       "      <td>0</td>\n",
       "    </tr>\n",
       "    <tr>\n",
       "      <td>3</td>\n",
       "      <td>1</td>\n",
       "      <td>0</td>\n",
       "      <td>0</td>\n",
       "      <td>0</td>\n",
       "    </tr>\n",
       "    <tr>\n",
       "      <td>4</td>\n",
       "      <td>1</td>\n",
       "      <td>0</td>\n",
       "      <td>0</td>\n",
       "      <td>0</td>\n",
       "    </tr>\n",
       "  </tbody>\n",
       "</table>\n",
       "</div>"
      ],
      "text/plain": [
       "   North Africa  North America  North Asia  South America\n",
       "0             1              0           0              0\n",
       "1             1              0           0              0\n",
       "2             1              0           0              0\n",
       "3             1              0           0              0\n",
       "4             1              0           0              0"
      ]
     },
     "execution_count": 7,
     "metadata": {},
     "output_type": "execute_result"
    }
   ],
   "source": [
    "# display indicator variables for regions\n",
    "region_dummies = pd.get_dummies(critically_endangered['Region'])\n",
    "region_dummies.head()"
   ]
  },
  {
   "cell_type": "code",
   "execution_count": 8,
   "metadata": {},
   "outputs": [],
   "source": [
    "for region in ['North Africa', 'North America', 'North Asia', 'South America']:\n",
    "    critically_endangered[region] = region_dummies[region]"
   ]
  },
  {
   "cell_type": "markdown",
   "metadata": {},
   "source": [
    "We created indicator variables for the regions and added these columns to the end of our dataframe."
   ]
  },
  {
   "cell_type": "markdown",
   "metadata": {},
   "source": [
    "### Systems Indicator Variables"
   ]
  },
  {
   "cell_type": "code",
   "execution_count": 9,
   "metadata": {},
   "outputs": [],
   "source": [
    "# define helper function to create indicator variables for systems\n",
    "# returns a dictionary of systems as keys and series of indicators as values\n",
    "def systems_helper():\n",
    "\n",
    "    terrestrial= critically_endangered['systems'].str.contains(\"Terrestrial\")\n",
    "    terrestrial=terrestrial.astype(int)\n",
    "\n",
    "    marine = critically_endangered['systems'].str.contains('Marine')\n",
    "    marine=marine.astype(int)\n",
    "\n",
    "    freshwater = critically_endangered['systems'].str.contains('Freshwater \\(=Inland waters\\)')\n",
    "    freshwater=freshwater.astype(int)\n",
    "    \n",
    "    indicator_systems = { 'Terrestrial': terrestrial, 'Marine': marine, 'Freshwater': freshwater} \n",
    "\n",
    "    return indicator_systems"
   ]
  },
  {
   "cell_type": "code",
   "execution_count": 10,
   "metadata": {
    "scrolled": true
   },
   "outputs": [
    {
     "data": {
      "text/html": [
       "<div>\n",
       "<style scoped>\n",
       "    .dataframe tbody tr th:only-of-type {\n",
       "        vertical-align: middle;\n",
       "    }\n",
       "\n",
       "    .dataframe tbody tr th {\n",
       "        vertical-align: top;\n",
       "    }\n",
       "\n",
       "    .dataframe thead th {\n",
       "        text-align: right;\n",
       "    }\n",
       "</style>\n",
       "<table border=\"1\" class=\"dataframe\">\n",
       "  <thead>\n",
       "    <tr style=\"text-align: right;\">\n",
       "      <th></th>\n",
       "      <th>Terrestrial</th>\n",
       "      <th>Marine</th>\n",
       "      <th>Freshwater</th>\n",
       "    </tr>\n",
       "  </thead>\n",
       "  <tbody>\n",
       "    <tr>\n",
       "      <td>0</td>\n",
       "      <td>1</td>\n",
       "      <td>0</td>\n",
       "      <td>0</td>\n",
       "    </tr>\n",
       "    <tr>\n",
       "      <td>1</td>\n",
       "      <td>0</td>\n",
       "      <td>1</td>\n",
       "      <td>0</td>\n",
       "    </tr>\n",
       "    <tr>\n",
       "      <td>2</td>\n",
       "      <td>0</td>\n",
       "      <td>1</td>\n",
       "      <td>0</td>\n",
       "    </tr>\n",
       "    <tr>\n",
       "      <td>3</td>\n",
       "      <td>0</td>\n",
       "      <td>1</td>\n",
       "      <td>0</td>\n",
       "    </tr>\n",
       "    <tr>\n",
       "      <td>4</td>\n",
       "      <td>0</td>\n",
       "      <td>0</td>\n",
       "      <td>1</td>\n",
       "    </tr>\n",
       "  </tbody>\n",
       "</table>\n",
       "</div>"
      ],
      "text/plain": [
       "   Terrestrial  Marine  Freshwater\n",
       "0            1       0           0\n",
       "1            0       1           0\n",
       "2            0       1           0\n",
       "3            0       1           0\n",
       "4            0       0           1"
      ]
     },
     "execution_count": 10,
     "metadata": {},
     "output_type": "execute_result"
    }
   ],
   "source": [
    "systems_dummies = pd.DataFrame(systems_helper())\n",
    "systems_dummies.head()"
   ]
  },
  {
   "cell_type": "code",
   "execution_count": 11,
   "metadata": {},
   "outputs": [],
   "source": [
    "for system in ['Terrestrial', 'Marine', 'Freshwater']:\n",
    "    critically_endangered[system] = systems_dummies[system]"
   ]
  },
  {
   "cell_type": "markdown",
   "metadata": {},
   "source": [
    "We created indicator variables using a helper function to filter through the systems column. Initially, there were 7 different systems in the column, so we separated these 7 into 3 specific categories for systems and added these columns to the end of our dataframe."
   ]
  },
  {
   "cell_type": "markdown",
   "metadata": {},
   "source": [
    "### New CSV"
   ]
  },
  {
   "cell_type": "code",
   "execution_count": 12,
   "metadata": {},
   "outputs": [],
   "source": [
    "critically_endangered.to_csv('/Users/sawyer/Desktop/critically_endangered_processed.csv')"
   ]
  },
  {
   "cell_type": "markdown",
   "metadata": {},
   "source": [
    "We finally wrote the processed dataframe into a new CSV file that will be read in the Final Report."
   ]
  }
 ],
 "metadata": {
  "kernelspec": {
   "display_name": "Python 3",
   "language": "python",
   "name": "python3"
  },
  "language_info": {
   "codemirror_mode": {
    "name": "ipython",
    "version": 3
   },
   "file_extension": ".py",
   "mimetype": "text/x-python",
   "name": "python",
   "nbconvert_exporter": "python",
   "pygments_lexer": "ipython3",
   "version": "3.7.4"
  }
 },
 "nbformat": 4,
 "nbformat_minor": 2
}
